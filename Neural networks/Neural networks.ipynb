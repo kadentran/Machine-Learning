{
  "nbformat": 4,
  "nbformat_minor": 0,
  "metadata": {
    "colab": {
      "name": "Neural networks",
      "provenance": [],
      "collapsed_sections": []
    },
    "kernelspec": {
      "name": "python3",
      "display_name": "Python 3"
    },
    "language_info": {
      "name": "python"
    }
  },
  "cells": [
    {
      "cell_type": "markdown",
      "metadata": {
        "id": "E4y1GkMqUeeI"
      },
      "source": [
        "# ****\n",
        "\n",
        "---\n",
        "\n",
        
        "## **Overview**\n",
        "\n",
        "This project analyzes census data in an attempt to predict household earnings.  The original dataset was downloaded from [1994 Census Data](https://archive.ics.uci.edu/ml/datasets/Census+Income) which contains data from the 1994 census.  The dataset contains 48k instances with 14 variables. The data was placed into a public folder in DropBox and can be accessed [here](https://www.dropbox.com/s/qhwnpwn2jka2b3z/adult.data?dl=1)\n",
        "\n",
        "\n",
        "\n",
        "The general approach to the analysis was:\n",
        "\n",
        "* Clean up data by identifying and correcting missing values and outliers.\n",
        "* Look for correlations and trends in the data\n",
        "* Convert columns with object type to numberic type\n",
        "* Running multiple  MLP models to train neural networks to classify people as earning more or less than $50k/year\n",
        "\n",
        "## **Dataset Key Points**\n",
        "* There are 2399 rows that have 'missing' data (denoted by ? in a field value) that were dropped.\n",
        "* The following colums appear to have the highest correlation to income:\n",
        "  - age\n",
        "  - education-num\n",
        "  - relationship\n",
        "  - hours-per-week\n",
        "\n",
        "## **Results**\n",
        "\n",
        "The results of analyzing the census data and training models to predict household earnings are presented below.\n",
        "\n",
        "**From Homework Assignment #2:**\n",
        "```\n",
        "You should tune the following parameters:\n",
        " * hidden layer sizes\n",
        " * activation function\n",
        " * maximum number of iterations \n",
        " * learning rate\n",
        "\n",
        "You should try at least 5 combination of above parameters and report training and test accuracies for each.\n",
        "Report your results in a tabular format, with a column indicating the parameters used, a column for training accuracy, and one for test accuracy.\n",
        "```\n",
        "\n",
        "Multiple MLP models were using various combinations of the tuning parameters specified in the homework assignment.  The results are in the following table.\n",
        "\n",
        "|  Run # |  Hidden Nodes | Activation Function  | Learning Rate  | Maximum Iterations  | Training Accuracy | Test Accuracy |\n",
        "|---|---|---|---|---|---|---|\n",
        "|  #1 |  4,5,4       | logistic | 0.0001  | 500  | 0.85 | 0.85 |\n",
        "|  #2 |  40,50,40,10 | tanh     | 0.01    | 250  | 0.90 | 0.84 |\n",
        "|  #3 |  30,20,10    | relu     | 0.01    | 1000 | 0.89 | 0.84 |\n",
        "|  #4 |  50,25       | relu     | 0.001   | 500  | 0.93 | 0.82 |\n",
        "|  #5 |  3,4,2       | logistic | 1.1     | 2000 | 0.75 | 0.75 |\n",
        "\n",
        "**accuracy is the f1 accuracy score retrieved from the metrics.classification_report()**\n"
      ]
    },
    {
      "cell_type": "code",
      "metadata": {
        "id": "lZCoVr2eq4jl"
      },
      "source": [
        "import numpy as np # numerical operations\n",
        "import matplotlib.pyplot as plt # More traditional\n",
        "import pandas as pd  # reading in data into tabular format\n",
        "from IPython.display import Markdown, display\n",
        "import seaborn as sns \n",
        "\n",
        "%matplotlib inline \n",
        "\n",
        "# Functions to format Markdown output\n",
        "def printmd(string):\n",
        "    display(Markdown(string))\n",
        "\n",
        "def printHorizontalRule():\n",
        "  printmd(\"---\")\n",
        "\n",
        "# Load 1994 census data \n",
        "# Originally downloaded from: \"https://archive.ics.uci.edu/ml/datasets/Census+Income\"\n",
        "url = 'https://www.dropbox.com/s/qhwnpwn2jka2b3z/adult.data?dl=1'\n",
        "\n",
        "incomedata=pd.read_csv(url, sep=\",\")\n",
        "df = pd.DataFrame(incomedata)\n",
        "df.columns = ['age','workclass','fnlwgt','education','education-num','marital-status','occupation','relationship','race','sex','capital-gain','capital-lost','hours-per-week','native-country','income']\n"
      ],
      "execution_count": null,
      "outputs": []
    },
    {
      "cell_type": "markdown",
      "metadata": {
        "id": "n-p8Dh-PcPyf"
      },
      "source": [
        "# Inspect the Dataset\n",
        "\n",
        "Review the dataset to understand the overall structure and content of the data.\n",
        "\n",
        "Look at the columns and data types.  Neural networks need numeric input to work so any non-numeric colums will need to be converted to numeric values in some manner.\n",
        "\n",
        "Look at the ranges of data to look for outliers or bad data.\n",
        "\n",
        "Overall the data looks relatively clean.  The next section will review fields with missing data, marked with '?'."
      ]
    },
    {
      "cell_type": "code",
      "metadata": {
        "colab": {
          "base_uri": "https://localhost:8080/"
        },
        "id": "lW8VGN6IcFTU",
        "outputId": "2925c9bb-dc59-4e52-f092-b572f562efe0"
      },
      "source": [
        "df.dtypes"
      ],
      "execution_count": null,
      "outputs": [
        {
          "output_type": "execute_result",
          "data": {
            "text/plain": [
              "age                int64\n",
              "workclass         object\n",
              "fnlwgt             int64\n",
              "education         object\n",
              "education-num      int64\n",
              "marital-status    object\n",
              "occupation        object\n",
              "relationship      object\n",
              "race              object\n",
              "sex               object\n",
              "capital-gain       int64\n",
              "capital-lost       int64\n",
              "hours-per-week     int64\n",
              "native-country    object\n",
              "income            object\n",
              "dtype: object"
            ]
          },
          "metadata": {
            "tags": []
          },
          "execution_count": 7
        }
      ]
    },
    {
      "cell_type": "code",
      "metadata": {
        "colab": {
          "base_uri": "https://localhost:8080/"
        },
        "id": "j9J5o-CK5C5t",
        "outputId": "0501ef61-52da-4d26-ed5d-b4c156366189"
      },
      "source": [
        "# Check the data to see if there are any null values\n",
        "df.info()"
      ],
      "execution_count": null,
      "outputs": [
        {
          "output_type": "stream",
          "text": [
            "<class 'pandas.core.frame.DataFrame'>\n",
            "RangeIndex: 32560 entries, 0 to 32559\n",
            "Data columns (total 15 columns):\n",
            " #   Column          Non-Null Count  Dtype \n",
            "---  ------          --------------  ----- \n",
            " 0   age             32560 non-null  int64 \n",
            " 1   workclass       32560 non-null  object\n",
            " 2   fnlwgt          32560 non-null  int64 \n",
            " 3   education       32560 non-null  object\n",
            " 4   education-num   32560 non-null  int64 \n",
            " 5   marital-status  32560 non-null  object\n",
            " 6   occupation      32560 non-null  object\n",
            " 7   relationship    32560 non-null  object\n",
            " 8   race            32560 non-null  object\n",
            " 9   sex             32560 non-null  object\n",
            " 10  capital-gain    32560 non-null  int64 \n",
            " 11  capital-lost    32560 non-null  int64 \n",
            " 12  hours-per-week  32560 non-null  int64 \n",
            " 13  native-country  32560 non-null  object\n",
            " 14  income          32560 non-null  object\n",
            "dtypes: int64(6), object(9)\n",
            "memory usage: 3.7+ MB\n"
          ],
          "name": "stdout"
        }
      ]
    },
    {
      "cell_type": "code",
      "metadata": {
        "colab": {
          "base_uri": "https://localhost:8080/"
        },
        "id": "1q0cUXddnyxs",
        "outputId": "e9fbc11f-29e5-4c25-a293-4fcda1dfb444"
      },
      "source": [
        "# Income is the dependant variable in this set.  The goal will be to try and categorize based on \n",
        "# the discrete values of 'income'.  These values are:\n",
        "df['income'].value_counts()"
      ],
      "execution_count": null,
      "outputs": [
        {
          "output_type": "execute_result",
          "data": {
            "text/plain": [
              " <=50K    24719\n",
              " >50K      7841\n",
              "Name: income, dtype: int64"
            ]
          },
          "metadata": {
            "tags": []
          },
          "execution_count": 9
        }
      ]
    },
    {
      "cell_type": "code",
      "metadata": {
        "colab": {
          "base_uri": "https://localhost:8080/",
          "height": 279
        },
        "id": "4aAiHZy96AA0",
        "outputId": "a843bbd9-5ce8-43a5-9e80-7674bd2f891c"
      },
      "source": [
        "# It looks like significantly more people make under $50k than make over $50k which may be significant for the model.\n",
        "chartData = df['income'].value_counts(normalize = True).rename_axis('income').reset_index(name = 'Percentage')\n",
        "ax = sns.barplot(x = 'income', y = 'Percentage', data = chartData)\n"
      ],
      "execution_count": null,
      "outputs": [
        {
          "output_type": "display_data",
          "data": {
            "image/png": "[encoded data removed]",
            "text/plain": [
              "<Figure size 432x288 with 1 Axes>"
            ]
          },
          "metadata": {
            "tags": [],
            "needs_background": "light"
          }
        }
      ]
    },
    {
      "cell_type": "code",
      "metadata": {
        "id": "9gf8b8z3r0QR",
        "colab": {
          "base_uri": "https://localhost:8080/",
          "height": 600
        },
        "outputId": "7f9dc50b-e4c6-45df-b694-20a65b66c5ec"
      },
      "source": [
        "df.head(10)"
      ],
      "execution_count": null,
      "outputs": [
        {
          "output_type": "execute_result",
          "data": {
            "text/html": [
              "<div>\n",
              "<style scoped>\n",
              "    .dataframe tbody tr th:only-of-type {\n",
              "        vertical-align: middle;\n",
              "    }\n",
              "\n",
              "    .dataframe tbody tr th {\n",
              "        vertical-align: top;\n",
              "    }\n",
              "\n",
              "    .dataframe thead th {\n",
              "        text-align: right;\n",
              "    }\n",
              "</style>\n",
              "<table border=\"1\" class=\"dataframe\">\n",
              "  <thead>\n",
              "    <tr style=\"text-align: right;\">\n",
              "      <th></th>\n",
              "      <th>age</th>\n",
              "      <th>workclass</th>\n",
              "      <th>fnlwgt</th>\n",
              "      <th>education</th>\n",
              "      <th>education-num</th>\n",
              "      <th>marital-status</th>\n",
              "      <th>occupation</th>\n",
              "      <th>relationship</th>\n",
              "      <th>race</th>\n",
              "      <th>sex</th>\n",
              "      <th>capital-gain</th>\n",
              "      <th>capital-lost</th>\n",
              "      <th>hours-per-week</th>\n",
              "      <th>native-country</th>\n",
              "      <th>income</th>\n",
              "    </tr>\n",
              "  </thead>\n",
              "  <tbody>\n",
              "    <tr>\n",
              "      <th>0</th>\n",
              "      <td>50</td>\n",
              "      <td>Self-emp-not-inc</td>\n",
              "      <td>83311</td>\n",
              "      <td>Bachelors</td>\n",
              "      <td>13</td>\n",
              "      <td>Married-civ-spouse</td>\n",
              "      <td>Exec-managerial</td>\n",
              "      <td>Husband</td>\n",
              "      <td>White</td>\n",
              "      <td>Male</td>\n",
              "      <td>0</td>\n",
              "      <td>0</td>\n",
              "      <td>13</td>\n",
              "      <td>United-States</td>\n",
              "      <td>&lt;=50K</td>\n",
              "    </tr>\n",
              "    <tr>\n",
              "      <th>1</th>\n",
              "      <td>38</td>\n",
              "      <td>Private</td>\n",
              "      <td>215646</td>\n",
              "      <td>HS-grad</td>\n",
              "      <td>9</td>\n",
              "      <td>Divorced</td>\n",
              "      <td>Handlers-cleaners</td>\n",
              "      <td>Not-in-family</td>\n",
              "      <td>White</td>\n",
              "      <td>Male</td>\n",
              "      <td>0</td>\n",
              "      <td>0</td>\n",
              "      <td>40</td>\n",
              "      <td>United-States</td>\n",
              "      <td>&lt;=50K</td>\n",
              "    </tr>\n",
              "    <tr>\n",
              "      <th>2</th>\n",
              "      <td>53</td>\n",
              "      <td>Private</td>\n",
              "      <td>234721</td>\n",
              "      <td>11th</td>\n",
              "      <td>7</td>\n",
              "      <td>Married-civ-spouse</td>\n",
              "      <td>Handlers-cleaners</td>\n",
              "      <td>Husband</td>\n",
              "      <td>Black</td>\n",
              "      <td>Male</td>\n",
              "      <td>0</td>\n",
              "      <td>0</td>\n",
              "      <td>40</td>\n",
              "      <td>United-States</td>\n",
              "      <td>&lt;=50K</td>\n",
              "    </tr>\n",
              "    <tr>\n",
              "      <th>3</th>\n",
              "      <td>28</td>\n",
              "      <td>Private</td>\n",
              "      <td>338409</td>\n",
              "      <td>Bachelors</td>\n",
              "      <td>13</td>\n",
              "      <td>Married-civ-spouse</td>\n",
              "      <td>Prof-specialty</td>\n",
              "      <td>Wife</td>\n",
              "      <td>Black</td>\n",
              "      <td>Female</td>\n",
              "      <td>0</td>\n",
              "      <td>0</td>\n",
              "      <td>40</td>\n",
              "      <td>Cuba</td>\n",
              "      <td>&lt;=50K</td>\n",
              "    </tr>\n",
              "    <tr>\n",
              "      <th>4</th>\n",
              "      <td>37</td>\n",
              "      <td>Private</td>\n",
              "      <td>284582</td>\n",
              "      <td>Masters</td>\n",
              "      <td>14</td>\n",
              "      <td>Married-civ-spouse</td>\n",
              "      <td>Exec-managerial</td>\n",
              "      <td>Wife</td>\n",
              "      <td>White</td>\n",
              "      <td>Female</td>\n",
              "      <td>0</td>\n",
              "      <td>0</td>\n",
              "      <td>40</td>\n",
              "      <td>United-States</td>\n",
              "      <td>&lt;=50K</td>\n",
              "    </tr>\n",
              "    <tr>\n",
              "      <th>5</th>\n",
              "      <td>49</td>\n",
              "      <td>Private</td>\n",
              "      <td>160187</td>\n",
              "      <td>9th</td>\n",
              "      <td>5</td>\n",
              "      <td>Married-spouse-absent</td>\n",
              "      <td>Other-service</td>\n",
              "      <td>Not-in-family</td>\n",
              "      <td>Black</td>\n",
              "      <td>Female</td>\n",
              "      <td>0</td>\n",
              "      <td>0</td>\n",
              "      <td>16</td>\n",
              "      <td>Jamaica</td>\n",
              "      <td>&lt;=50K</td>\n",
              "    </tr>\n",
              "    <tr>\n",
              "      <th>6</th>\n",
              "      <td>52</td>\n",
              "      <td>Self-emp-not-inc</td>\n",
              "      <td>209642</td>\n",
              "      <td>HS-grad</td>\n",
              "      <td>9</td>\n",
              "      <td>Married-civ-spouse</td>\n",
              "      <td>Exec-managerial</td>\n",
              "      <td>Husband</td>\n",
              "      <td>White</td>\n",
              "      <td>Male</td>\n",
              "      <td>0</td>\n",
              "      <td>0</td>\n",
              "      <td>45</td>\n",
              "      <td>United-States</td>\n",
              "      <td>&gt;50K</td>\n",
              "    </tr>\n",
              "    <tr>\n",
              "      <th>7</th>\n",
              "      <td>31</td>\n",
              "      <td>Private</td>\n",
              "      <td>45781</td>\n",
              "      <td>Masters</td>\n",
              "      <td>14</td>\n",
              "      <td>Never-married</td>\n",
              "      <td>Prof-specialty</td>\n",
              "      <td>Not-in-family</td>\n",
              "      <td>White</td>\n",
              "      <td>Female</td>\n",
              "      <td>14084</td>\n",
              "      <td>0</td>\n",
              "      <td>50</td>\n",
              "      <td>United-States</td>\n",
              "      <td>&gt;50K</td>\n",
              "    </tr>\n",
              "    <tr>\n",
              "      <th>8</th>\n",
              "      <td>42</td>\n",
              "      <td>Private</td>\n",
              "      <td>159449</td>\n",
              "      <td>Bachelors</td>\n",
              "      <td>13</td>\n",
              "      <td>Married-civ-spouse</td>\n",
              "      <td>Exec-managerial</td>\n",
              "      <td>Husband</td>\n",
              "      <td>White</td>\n",
              "      <td>Male</td>\n",
              "      <td>5178</td>\n",
              "      <td>0</td>\n",
              "      <td>40</td>\n",
              "      <td>United-States</td>\n",
              "      <td>&gt;50K</td>\n",
              "    </tr>\n",
              "    <tr>\n",
              "      <th>9</th>\n",
              "      <td>37</td>\n",
              "      <td>Private</td>\n",
              "      <td>280464</td>\n",
              "      <td>Some-college</td>\n",
              "      <td>10</td>\n",
              "      <td>Married-civ-spouse</td>\n",
              "      <td>Exec-managerial</td>\n",
              "      <td>Husband</td>\n",
              "      <td>Black</td>\n",
              "      <td>Male</td>\n",
              "      <td>0</td>\n",
              "      <td>0</td>\n",
              "      <td>80</td>\n",
              "      <td>United-States</td>\n",
              "      <td>&gt;50K</td>\n",
              "    </tr>\n",
              "  </tbody>\n",
              "</table>\n",
              "</div>"
            ],
            "text/plain": [
              "   age          workclass  fnlwgt  ... hours-per-week  native-country  income\n",
              "0   50   Self-emp-not-inc   83311  ...             13   United-States   <=50K\n",
              "1   38            Private  215646  ...             40   United-States   <=50K\n",
              "2   53            Private  234721  ...             40   United-States   <=50K\n",
              "3   28            Private  338409  ...             40            Cuba   <=50K\n",
              "4   37            Private  284582  ...             40   United-States   <=50K\n",
              "5   49            Private  160187  ...             16         Jamaica   <=50K\n",
              "6   52   Self-emp-not-inc  209642  ...             45   United-States    >50K\n",
              "7   31            Private   45781  ...             50   United-States    >50K\n",
              "8   42            Private  159449  ...             40   United-States    >50K\n",
              "9   37            Private  280464  ...             80   United-States    >50K\n",
              "\n",
              "[10 rows x 15 columns]"
            ]
          },
          "metadata": {
            "tags": []
          },
          "execution_count": 11
        }
      ]
    },
    {
      "cell_type": "code",
      "metadata": {
        "id": "UmWoDhrLr3Un",
        "colab": {
          "base_uri": "https://localhost:8080/",
          "height": 514
        },
        "outputId": "fc45af67-6a05-4126-a48e-964e1218a36f"
      },
      "source": [
        "# review data ranges of all columns to look for potentially large or small ranges, etc.\n",
        "df.describe(include = 'all').T"
      ],
      "execution_count": null,
      "outputs": [
        {
          "output_type": "execute_result",
          "data": {
            "text/html": [
              "<div>\n",
              "<style scoped>\n",
              "    .dataframe tbody tr th:only-of-type {\n",
              "        vertical-align: middle;\n",
              "    }\n",
              "\n",
              "    .dataframe tbody tr th {\n",
              "        vertical-align: top;\n",
              "    }\n",
              "\n",
              "    .dataframe thead th {\n",
              "        text-align: right;\n",
              "    }\n",
              "</style>\n",
              "<table border=\"1\" class=\"dataframe\">\n",
              "  <thead>\n",
              "    <tr style=\"text-align: right;\">\n",
              "      <th></th>\n",
              "      <th>count</th>\n",
              "      <th>unique</th>\n",
              "      <th>top</th>\n",
              "      <th>freq</th>\n",
              "      <th>mean</th>\n",
              "      <th>std</th>\n",
              "      <th>min</th>\n",
              "      <th>25%</th>\n",
              "      <th>50%</th>\n",
              "      <th>75%</th>\n",
              "      <th>max</th>\n",
              "    </tr>\n",
              "  </thead>\n",
              "  <tbody>\n",
              "    <tr>\n",
              "      <th>age</th>\n",
              "      <td>32560</td>\n",
              "      <td>NaN</td>\n",
              "      <td>NaN</td>\n",
              "      <td>NaN</td>\n",
              "      <td>38.5816</td>\n",
              "      <td>13.6406</td>\n",
              "      <td>17</td>\n",
              "      <td>28</td>\n",
              "      <td>37</td>\n",
              "      <td>48</td>\n",
              "      <td>90</td>\n",
              "    </tr>\n",
              "    <tr>\n",
              "      <th>workclass</th>\n",
              "      <td>32560</td>\n",
              "      <td>9</td>\n",
              "      <td>Private</td>\n",
              "      <td>22696</td>\n",
              "      <td>NaN</td>\n",
              "      <td>NaN</td>\n",
              "      <td>NaN</td>\n",
              "      <td>NaN</td>\n",
              "      <td>NaN</td>\n",
              "      <td>NaN</td>\n",
              "      <td>NaN</td>\n",
              "    </tr>\n",
              "    <tr>\n",
              "      <th>fnlwgt</th>\n",
              "      <td>32560</td>\n",
              "      <td>NaN</td>\n",
              "      <td>NaN</td>\n",
              "      <td>NaN</td>\n",
              "      <td>189782</td>\n",
              "      <td>105550</td>\n",
              "      <td>12285</td>\n",
              "      <td>117832</td>\n",
              "      <td>178363</td>\n",
              "      <td>237054</td>\n",
              "      <td>1.48470e+06</td>\n",
              "    </tr>\n",
              "    <tr>\n",
              "      <th>education</th>\n",
              "      <td>32560</td>\n",
              "      <td>16</td>\n",
              "      <td>HS-grad</td>\n",
              "      <td>10501</td>\n",
              "      <td>NaN</td>\n",
              "      <td>NaN</td>\n",
              "      <td>NaN</td>\n",
              "      <td>NaN</td>\n",
              "      <td>NaN</td>\n",
              "      <td>NaN</td>\n",
              "      <td>NaN</td>\n",
              "    </tr>\n",
              "    <tr>\n",
              "      <th>education-num</th>\n",
              "      <td>32560</td>\n",
              "      <td>NaN</td>\n",
              "      <td>NaN</td>\n",
              "      <td>NaN</td>\n",
              "      <td>10.0806</td>\n",
              "      <td>2.57271</td>\n",
              "      <td>1</td>\n",
              "      <td>9</td>\n",
              "      <td>10</td>\n",
              "      <td>12</td>\n",
              "      <td>16</td>\n",
              "    </tr>\n",
              "    <tr>\n",
              "      <th>marital-status</th>\n",
              "      <td>32560</td>\n",
              "      <td>7</td>\n",
              "      <td>Married-civ-spouse</td>\n",
              "      <td>14976</td>\n",
              "      <td>NaN</td>\n",
              "      <td>NaN</td>\n",
              "      <td>NaN</td>\n",
              "      <td>NaN</td>\n",
              "      <td>NaN</td>\n",
              "      <td>NaN</td>\n",
              "      <td>NaN</td>\n",
              "    </tr>\n",
              "    <tr>\n",
              "      <th>occupation</th>\n",
              "      <td>32560</td>\n",
              "      <td>15</td>\n",
              "      <td>Prof-specialty</td>\n",
              "      <td>4140</td>\n",
              "      <td>NaN</td>\n",
              "      <td>NaN</td>\n",
              "      <td>NaN</td>\n",
              "      <td>NaN</td>\n",
              "      <td>NaN</td>\n",
              "      <td>NaN</td>\n",
              "      <td>NaN</td>\n",
              "    </tr>\n",
              "    <tr>\n",
              "      <th>relationship</th>\n",
              "      <td>32560</td>\n",
              "      <td>6</td>\n",
              "      <td>Husband</td>\n",
              "      <td>13193</td>\n",
              "      <td>NaN</td>\n",
              "      <td>NaN</td>\n",
              "      <td>NaN</td>\n",
              "      <td>NaN</td>\n",
              "      <td>NaN</td>\n",
              "      <td>NaN</td>\n",
              "      <td>NaN</td>\n",
              "    </tr>\n",
              "    <tr>\n",
              "      <th>race</th>\n",
              "      <td>32560</td>\n",
              "      <td>5</td>\n",
              "      <td>White</td>\n",
              "      <td>27815</td>\n",
              "      <td>NaN</td>\n",
              "      <td>NaN</td>\n",
              "      <td>NaN</td>\n",
              "      <td>NaN</td>\n",
              "      <td>NaN</td>\n",
              "      <td>NaN</td>\n",
              "      <td>NaN</td>\n",
              "    </tr>\n",
              "    <tr>\n",
              "      <th>sex</th>\n",
              "      <td>32560</td>\n",
              "      <td>2</td>\n",
              "      <td>Male</td>\n",
              "      <td>21789</td>\n",
              "      <td>NaN</td>\n",
              "      <td>NaN</td>\n",
              "      <td>NaN</td>\n",
              "      <td>NaN</td>\n",
              "      <td>NaN</td>\n",
              "      <td>NaN</td>\n",
              "      <td>NaN</td>\n",
              "    </tr>\n",
              "    <tr>\n",
              "      <th>capital-gain</th>\n",
              "      <td>32560</td>\n",
              "      <td>NaN</td>\n",
              "      <td>NaN</td>\n",
              "      <td>NaN</td>\n",
              "      <td>1077.62</td>\n",
              "      <td>7385.4</td>\n",
              "      <td>0</td>\n",
              "      <td>0</td>\n",
              "      <td>0</td>\n",
              "      <td>0</td>\n",
              "      <td>99999</td>\n",
              "    </tr>\n",
              "    <tr>\n",
              "      <th>capital-lost</th>\n",
              "      <td>32560</td>\n",
              "      <td>NaN</td>\n",
              "      <td>NaN</td>\n",
              "      <td>NaN</td>\n",
              "      <td>87.3065</td>\n",
              "      <td>402.966</td>\n",
              "      <td>0</td>\n",
              "      <td>0</td>\n",
              "      <td>0</td>\n",
              "      <td>0</td>\n",
              "      <td>4356</td>\n",
              "    </tr>\n",
              "    <tr>\n",
              "      <th>hours-per-week</th>\n",
              "      <td>32560</td>\n",
              "      <td>NaN</td>\n",
              "      <td>NaN</td>\n",
              "      <td>NaN</td>\n",
              "      <td>40.4375</td>\n",
              "      <td>12.3476</td>\n",
              "      <td>1</td>\n",
              "      <td>40</td>\n",
              "      <td>40</td>\n",
              "      <td>45</td>\n",
              "      <td>99</td>\n",
              "    </tr>\n",
              "    <tr>\n",
              "      <th>native-country</th>\n",
              "      <td>32560</td>\n",
              "      <td>42</td>\n",
              "      <td>United-States</td>\n",
              "      <td>29169</td>\n",
              "      <td>NaN</td>\n",
              "      <td>NaN</td>\n",
              "      <td>NaN</td>\n",
              "      <td>NaN</td>\n",
              "      <td>NaN</td>\n",
              "      <td>NaN</td>\n",
              "      <td>NaN</td>\n",
              "    </tr>\n",
              "    <tr>\n",
              "      <th>income</th>\n",
              "      <td>32560</td>\n",
              "      <td>2</td>\n",
              "      <td>&lt;=50K</td>\n",
              "      <td>24719</td>\n",
              "      <td>NaN</td>\n",
              "      <td>NaN</td>\n",
              "      <td>NaN</td>\n",
              "      <td>NaN</td>\n",
              "      <td>NaN</td>\n",
              "      <td>NaN</td>\n",
              "      <td>NaN</td>\n",
              "    </tr>\n",
              "  </tbody>\n",
              "</table>\n",
              "</div>"
            ],
            "text/plain": [
              "                count unique                  top  ...     50%     75%          max\n",
              "age             32560    NaN                  NaN  ...      37      48           90\n",
              "workclass       32560      9              Private  ...     NaN     NaN          NaN\n",
              "fnlwgt          32560    NaN                  NaN  ...  178363  237054  1.48470e+06\n",
              "education       32560     16              HS-grad  ...     NaN     NaN          NaN\n",
              "education-num   32560    NaN                  NaN  ...      10      12           16\n",
              "marital-status  32560      7   Married-civ-spouse  ...     NaN     NaN          NaN\n",
              "occupation      32560     15       Prof-specialty  ...     NaN     NaN          NaN\n",
              "relationship    32560      6              Husband  ...     NaN     NaN          NaN\n",
              "race            32560      5                White  ...     NaN     NaN          NaN\n",
              "sex             32560      2                 Male  ...     NaN     NaN          NaN\n",
              "capital-gain    32560    NaN                  NaN  ...       0       0        99999\n",
              "capital-lost    32560    NaN                  NaN  ...       0       0         4356\n",
              "hours-per-week  32560    NaN                  NaN  ...      40      45           99\n",
              "native-country  32560     42        United-States  ...     NaN     NaN          NaN\n",
              "income          32560      2                <=50K  ...     NaN     NaN          NaN\n",
              "\n",
              "[15 rows x 11 columns]"
            ]
          },
          "metadata": {
            "tags": []
          },
          "execution_count": 12
        }
      ]
    },
    {
      "cell_type": "markdown",
      "metadata": {
        "id": "vrIf-n-EpN6Z"
      },
      "source": [
        "# Clean Up Bad or Missing Data\n",
        "Missing values will have a '?' instead of actual data.  The columns workclass occupation, native-country appear to have missing data.  \n",
        "\n",
        "The rows containing missing data can either be removed or the missing values can be updated in some way.  Since the fields with missing data are all categories, not numeric, it's not clear what the appropriate category might be so the decision was made to simply remove these records.\n"
      ]
    },
    {
      "cell_type": "code",
      "metadata": {
        "id": "zjpf3FOLgvN6"
      },
      "source": [
        "# Remove rows that have hours-per-week over 70, these might be bad data.\n",
        "df['hours-per-week'].value_counts()\n",
        "# Drop rows that missing data in workclass\n",
        "df = df[df['hours-per-week'] < 70]"
      ],
      "execution_count": null,
      "outputs": []
    },
    {
      "cell_type": "code",
      "metadata": {
        "id": "rI9hevJlOIA8",
        "colab": {
          "base_uri": "https://localhost:8080/",
          "height": 240
        },
        "outputId": "30b5cef6-d785-47b8-f27e-e404fde2f5ed"
      },
      "source": [
        "# There are 2399 rows that have 'missing' data (denoted by ? in a field value)\n",
        "def countMissing(dframe, column_name):\n",
        "  missingdf = dframe[[column_name]]\n",
        "  missingdf = missingdf[missingdf[column_name].str.contains('\\?') == True]\n",
        "  cnt = len(missingdf.index)\n",
        "  printmd(\"**\"+ column_name + \"** \" + str(cnt))\n",
        "\n",
        "printmd(\"**Count Rows with Missing Data**\")\n",
        "printHorizontalRule()\n",
        "\n",
        "# Look at all non-numeric fields.  Numeric fields don't have missing data as ?.\n",
        "countMissing(df, \"workclass\")\n",
        "countMissing(df, \"education\")\n",
        "countMissing(df, \"marital-status\")\n",
        "countMissing(df, \"occupation\")\n",
        "countMissing(df, \"relationship\")\n",
        "countMissing(df, \"race\")\n",
        "countMissing(df, \"sex\")\n",
        "countMissing(df, \"native-country\")\n"
      ],
      "execution_count": null,
      "outputs": [
        {
          "output_type": "display_data",
          "data": {
            "text/markdown": "**Count Rows with Missing Data**",
            "text/plain": [
              "<IPython.core.display.Markdown object>"
            ]
          },
          "metadata": {
            "tags": []
          }
        },
        {
          "output_type": "display_data",
          "data": {
            "text/markdown": "---",
            "text/plain": [
              "<IPython.core.display.Markdown object>"
            ]
          },
          "metadata": {
            "tags": []
          }
        },
        {
          "output_type": "display_data",
          "data": {
            "text/markdown": "**workclass** 1804",
            "text/plain": [
              "<IPython.core.display.Markdown object>"
            ]
          },
          "metadata": {
            "tags": []
          }
        },
        {
          "output_type": "display_data",
          "data": {
            "text/markdown": "**education** 0",
            "text/plain": [
              "<IPython.core.display.Markdown object>"
            ]
          },
          "metadata": {
            "tags": []
          }
        },
        {
          "output_type": "display_data",
          "data": {
            "text/markdown": "**marital-status** 0",
            "text/plain": [
              "<IPython.core.display.Markdown object>"
            ]
          },
          "metadata": {
            "tags": []
          }
        },
        {
          "output_type": "display_data",
          "data": {
            "text/markdown": "**occupation** 1811",
            "text/plain": [
              "<IPython.core.display.Markdown object>"
            ]
          },
          "metadata": {
            "tags": []
          }
        },
        {
          "output_type": "display_data",
          "data": {
            "text/markdown": "**relationship** 0",
            "text/plain": [
              "<IPython.core.display.Markdown object>"
            ]
          },
          "metadata": {
            "tags": []
          }
        },
        {
          "output_type": "display_data",
          "data": {
            "text/markdown": "**race** 0",
            "text/plain": [
              "<IPython.core.display.Markdown object>"
            ]
          },
          "metadata": {
            "tags": []
          }
        },
        {
          "output_type": "display_data",
          "data": {
            "text/markdown": "**sex** 0",
            "text/plain": [
              "<IPython.core.display.Markdown object>"
            ]
          },
          "metadata": {
            "tags": []
          }
        },
        {
          "output_type": "display_data",
          "data": {
            "text/markdown": "**native-country** 562",
            "text/plain": [
              "<IPython.core.display.Markdown object>"
            ]
          },
          "metadata": {
            "tags": []
          }
        }
      ]
    },
    {
      "cell_type": "code",
      "metadata": {
        "id": "UyBlCuDMV-Zd",
        "colab": {
          "base_uri": "https://localhost:8080/",
          "height": 226
        },
        "outputId": "bb53b1d7-7d04-41d5-bbb1-6e6c45429f9b"
      },
      "source": [
        "# missing 1836 values in workclass column.  These have a value of ?.\n",
        "printmd(\"**Workclass Missing Data**\")\n",
        "df['workclass'].value_counts()"
      ],
      "execution_count": null,
      "outputs": [
        {
          "output_type": "display_data",
          "data": {
            "text/markdown": "**Workclass Missing Data**",
            "text/plain": [
              "<IPython.core.display.Markdown object>"
            ]
          },
          "metadata": {
            "tags": []
          }
        },
        {
          "output_type": "execute_result",
          "data": {
            "text/plain": [
              " Private             22318\n",
              " Self-emp-not-inc     2343\n",
              " Local-gov            2049\n",
              " ?                    1804\n",
              " State-gov            1267\n",
              " Self-emp-inc         1024\n",
              " Federal-gov           945\n",
              " Without-pay            14\n",
              " Never-worked            7\n",
              "Name: workclass, dtype: int64"
            ]
          },
          "metadata": {
            "tags": []
          },
          "execution_count": 15
        }
      ]
    },
    {
      "cell_type": "code",
      "metadata": {
        "id": "oCwHQt_2p5Kf"
      },
      "source": [
        "# Drop rows that missing data in workclass\n",
        "df = df[df['workclass'].str.contains('\\?') == False]"
      ],
      "execution_count": null,
      "outputs": []
    },
    {
      "cell_type": "code",
      "metadata": {
        "id": "QZ7T8E5XZ0S4",
        "colab": {
          "base_uri": "https://localhost:8080/",
          "height": 334
        },
        "outputId": "c477bc61-2785-4c5c-923e-062a4a784228"
      },
      "source": [
        "# Look for missing data in occupation column.\n",
        "printmd(\"**Occupation Missing Data**\")\n",
        "df['occupation'].value_counts()"
      ],
      "execution_count": null,
      "outputs": [
        {
          "output_type": "display_data",
          "data": {
            "text/markdown": "**Occupation Missing Data**",
            "text/plain": [
              "<IPython.core.display.Markdown object>"
            ]
          },
          "metadata": {
            "tags": []
          }
        },
        {
          "output_type": "execute_result",
          "data": {
            "text/plain": [
              " Craft-repair         4030\n",
              " Prof-specialty       4017\n",
              " Exec-managerial      3940\n",
              " Adm-clerical         3751\n",
              " Sales                3578\n",
              " Other-service        3237\n",
              " Machine-op-inspct    1982\n",
              " Transport-moving     1513\n",
              " Handlers-cleaners    1356\n",
              " Tech-support          913\n",
              " Farming-fishing       874\n",
              " Protective-serv       616\n",
              " Priv-house-serv       144\n",
              " Armed-Forces            9\n",
              " ?                       7\n",
              "Name: occupation, dtype: int64"
            ]
          },
          "metadata": {
            "tags": []
          },
          "execution_count": 17
        }
      ]
    },
    {
      "cell_type": "code",
      "metadata": {
        "id": "qX6qQGffrFZp"
      },
      "source": [
        "# Drop rows that missing data in occupation\n",
        "df = df[df['occupation'].str.contains('\\?') == False]"
      ],
      "execution_count": null,
      "outputs": []
    },
    {
      "cell_type": "code",
      "metadata": {
        "id": "TBW7Yo2LZ_yg",
        "colab": {
          "base_uri": "https://localhost:8080/",
          "height": 820
        },
        "outputId": "c8f4e6bd-91f7-4d02-daba-51ce264e4863"
      },
      "source": [
        "#missing 556 values in native-country after dropping rows above\n",
        "printmd(\"**native-country Missing Data**\")\n",
        "df['native-country'].value_counts()"
      ],
      "execution_count": null,
      "outputs": [
        {
          "output_type": "display_data",
          "data": {
            "text/markdown": "**native-country Missing Data**",
            "text/plain": [
              "<IPython.core.display.Markdown object>"
            ]
          },
          "metadata": {
            "tags": []
          }
        },
        {
          "output_type": "execute_result",
          "data": {
            "text/plain": [
              " United-States                 26834\n",
              " Mexico                          590\n",
              " ?                               535\n",
              " Philippines                     184\n",
              " Germany                         124\n",
              " Puerto-Rico                     107\n",
              " Canada                          104\n",
              " El-Salvador                     100\n",
              " India                            97\n",
              " Cuba                             91\n",
              " England                          83\n",
              " Jamaica                          79\n",
              " China                            68\n",
              " South                            66\n",
              " Italy                            64\n",
              " Guatemala                        63\n",
              " Vietnam                          63\n",
              " Dominican-Republic               63\n",
              " Japan                            57\n",
              " Poland                           56\n",
              " Columbia                         56\n",
              " Haiti                            41\n",
              " Iran                             41\n",
              " Taiwan                           40\n",
              " Nicaragua                        33\n",
              " Portugal                         33\n",
              " Peru                             30\n",
              " Greece                           28\n",
              " Ecuador                          27\n",
              " France                           26\n",
              " Ireland                          24\n",
              " Hong                             19\n",
              " Cambodia                         18\n",
              " Trinadad&Tobago                  18\n",
              " Laos                             17\n",
              " Yugoslavia                       16\n",
              " Thailand                         14\n",
              " Outlying-US(Guam-USVI-etc)       14\n",
              " Hungary                          13\n",
              " Honduras                         12\n",
              " Scotland                         11\n",
              " Holand-Netherlands                1\n",
              "Name: native-country, dtype: int64"
            ]
          },
          "metadata": {
            "tags": []
          },
          "execution_count": 19
        }
      ]
    },
    {
      "cell_type": "code",
      "metadata": {
        "id": "u0tG3HMVrSiI"
      },
      "source": [
        "# Drop rows that missing data in native-country\n",
        "df = df[df['native-country'].str.contains('\\?') == False]"
      ],
      "execution_count": null,
      "outputs": []
    },
    {
      "cell_type": "code",
      "metadata": {
        "id": "gFwWmmxpDtGu"
      },
      "source": [
        "# education-num and education are essentially the same thing.  Drop 'education-num' in favor of education so that the education numbers to provide skewed weights.\n",
        "# The discrete values of 'education' will be converted to boolean valued columns using LabelBinarizer, below\n",
        "df = df.drop(['education-num'], axis=1)"
      ],
      "execution_count": null,
      "outputs": []
    },
    {
      "cell_type": "markdown",
      "metadata": {
        "id": "vLXwDBuVN1ne"
      },
      "source": [
        "# Correlations\n",
        "\n",
        "Look for coorelations between the various features in the dataset relating to income.\n",
        "\n",
        "The following colums appear to have the highest correlation to income:\n",
        "* age\n",
        "* education-num\n",
        "* relationship\n",
        "* hours-per-week"
      ]
    },
    {
      "cell_type": "code",
      "metadata": {
        "id": "afCfO173FW-u",
        "colab": {
          "base_uri": "https://localhost:8080/",
          "height": 681
        },
        "outputId": "3467c357-1cbe-4929-b084-09b8904b6c67"
      },
      "source": [
        "# Look at correlations\n",
        "# Visualize column correlations\n",
        "import seaborn as sns  # New and easy format plot library\n",
        "from sklearn.preprocessing import LabelEncoder\n",
        "\n",
        "heatdf = df.copy()\n",
        "\n",
        "# Convert lables to numeric values to look for correlations\n",
        "le = LabelEncoder()\n",
        "for i in range(0, heatdf.shape[1]):\n",
        "  if heatdf.dtypes[i] == 'object':\n",
        "    heatdf[heatdf.columns[i]] = le.fit_transform(heatdf[heatdf.columns[i]])\n",
        "\n",
        "fig, ax = plt.subplots(figsize=(10,10))        \n",
        "sns.heatmap(data=heatdf.corr().round(2), annot=True)"
      ],
      "execution_count": null,
      "outputs": [
        {
          "output_type": "execute_result",
          "data": {
            "text/plain": [
              "<matplotlib.axes._subplots.AxesSubplot at 0x7fcd1df17850>"
            ]
          },
          "metadata": {
            "tags": []
          },
          "execution_count": 22
        },
        {
          "output_type": "display_data",
          "data": {
            "image/png": "[encoded data removed]",
            "text/plain": [
              "<Figure size 720x720 with 2 Axes>"
            ]
          },
          "metadata": {
            "tags": [],
            "needs_background": "light"
          }
        }
      ]
    },
    {
      "cell_type": "code",
      "metadata": {
        "id": "HYOSpXtGZKMS"
      },
      "source": [
        "# Remove fields that do not have reasonable correlation\n",
        "# Note: Decided not to remove any columns because the goal of the homework exercise isn't to attempt to get the highest\n",
        "# accuracy possible.  The goal is to see how the accuracy changes by varying the hyperparameters of a MLPClassifier \n",
        "# df = df.drop(['workclass'], axis=1)\n",
        "# df = df.drop(['fnlwgt'], axis=1)\n",
        "# df = df.drop(['education'], axis=1)\n",
        "# df = df.drop(['occupation'], axis=1)\n",
        "# df = df.drop(['native-country'], axis=1)\n",
        "# df = df.drop(['race'], axis=1)\n",
        "# df = df.drop(['relationship'], axis=1)\n",
        "# df = df.drop(['marital-status'], axis=1)"
      ],
      "execution_count": null,
      "outputs": []
    },
    {
      "cell_type": "markdown",
      "metadata": {
        "id": "OT5yA8ciqxbB"
      },
      "source": [
        "# Convert column types\n",
        "Several columns are strings that represent a set of discrete values.  These values need to be converted to a format suitable for consumption by a neural network so they need to be numeric.  \n",
        "\n",
        "A label encoder could be used to convert each label to a numeric value.  This would be suitable for a decision tree but for a neural network you want values for each feature that contribute in a meaningful way to the weights and output.   Simply converting each value to a magic number would give more weight to the output of the network for some countries than others which might effect the results.\n",
        "\n",
        "A **LabelBinarizer** will convert each label of a column to a binary column.  This way a label either contributes to the output of the if it's present or will not contribute if it's not present.  All labels, however, will now have an equal impact.\n",
        "\n",
        "## Columns to Convert\n",
        "\n",
        "The following columns are of an 'object' type and contain string labels.  This section will convert each discrete value for each of these columns into a separate feature of the dataset.\n",
        "\n",
        "_**Column**_           \n",
        "*  workclass         \n",
        "*  education         \n",
        "*  marital-status    \n",
        "*  occupation        \n",
        "*  relationship      \n",
        "*  race              \n",
        "*  sex               \n",
        "*  native-country            \n"
      ]
    },
    {
      "cell_type": "code",
      "metadata": {
        "id": "iIti-5q-tC8b",
        "colab": {
          "base_uri": "https://localhost:8080/",
          "height": 496
        },
        "outputId": "f9b9dbf8-66d1-4123-eadc-dd218333dfd8"
      },
      "source": [
        "from sklearn.preprocessing import LabelBinarizer\n",
        "\n",
        "# Convert object column labels to columns\n",
        "\n",
        "def label_binarizer(column_name, dframe):\n",
        "\n",
        "  if not column_name in dframe:\n",
        "    return dframe\n",
        "\n",
        "  lb = LabelBinarizer()\n",
        "  dframe = dframe.join(pd.DataFrame(lb.fit_transform(df[column_name]),\n",
        "                                    columns=lb.classes_, \n",
        "                                    index=dframe.index), \n",
        "                          lsuffix='_' + column_name, \n",
        "                          rsuffix='_' + column_name)\n",
        "\n",
        "  printmd(\"**`\" + column_name + \"`** values converted to columns\")\n",
        "  return dframe.drop(columns=[column_name])\n",
        "\n",
        "df = label_binarizer(\"workclass\", df)\n",
        "df = label_binarizer(\"education\", df)\n",
        "df = label_binarizer(\"marital-status\", df)\n",
        "df = label_binarizer(\"occupation\", df)\n",
        "df = label_binarizer(\"relationship\", df)\n",
        "df = label_binarizer(\"race\", df)\n",
        "df = label_binarizer(\"native-country\", df)\n",
        "\n",
        "# Convert 'sex' using get_dummies because it fails when using the LabelBinarizer.  Not sure why.\n",
        "df = pd.get_dummies(df, columns=['sex'])\n",
        "\n",
        "print()\n",
        "df.head()"
      ],
      "execution_count": null,
      "outputs": [
        {
          "output_type": "display_data",
          "data": {
            "text/markdown": "**`workclass`** values converted to columns",
            "text/plain": [
              "<IPython.core.display.Markdown object>"
            ]
          },
          "metadata": {
            "tags": []
          }
        },
        {
          "output_type": "display_data",
          "data": {
            "text/markdown": "**`education`** values converted to columns",
            "text/plain": [
              "<IPython.core.display.Markdown object>"
            ]
          },
          "metadata": {
            "tags": []
          }
        },
        {
          "output_type": "display_data",
          "data": {
            "text/markdown": "**`marital-status`** values converted to columns",
            "text/plain": [
              "<IPython.core.display.Markdown object>"
            ]
          },
          "metadata": {
            "tags": []
          }
        },
        {
          "output_type": "display_data",
          "data": {
            "text/markdown": "**`occupation`** values converted to columns",
            "text/plain": [
              "<IPython.core.display.Markdown object>"
            ]
          },
          "metadata": {
            "tags": []
          }
        },
        {
          "output_type": "display_data",
          "data": {
            "text/markdown": "**`relationship`** values converted to columns",
            "text/plain": [
              "<IPython.core.display.Markdown object>"
            ]
          },
          "metadata": {
            "tags": []
          }
        },
        {
          "output_type": "display_data",
          "data": {
            "text/markdown": "**`race`** values converted to columns",
            "text/plain": [
              "<IPython.core.display.Markdown object>"
            ]
          },
          "metadata": {
            "tags": []
          }
        },
        {
          "output_type": "display_data",
          "data": {
            "text/markdown": "**`native-country`** values converted to columns",
            "text/plain": [
              "<IPython.core.display.Markdown object>"
            ]
          },
          "metadata": {
            "tags": []
          }
        },
        {
          "output_type": "stream",
          "text": [
            "\n"
          ],
          "name": "stdout"
        },
        {
          "output_type": "execute_result",
          "data": {
            "text/html": [
              "<div>\n",
              "<style scoped>\n",
              "    .dataframe tbody tr th:only-of-type {\n",
              "        vertical-align: middle;\n",
              "    }\n",
              "\n",
              "    .dataframe tbody tr th {\n",
              "        vertical-align: top;\n",
              "    }\n",
              "\n",
              "    .dataframe thead th {\n",
              "        text-align: right;\n",
              "    }\n",
              "</style>\n",
              "<table border=\"1\" class=\"dataframe\">\n",
              "  <thead>\n",
              "    <tr style=\"text-align: right;\">\n",
              "      <th></th>\n",
              "      <th>age</th>\n",
              "      <th>fnlwgt</th>\n",
              "      <th>capital-gain</th>\n",
              "      <th>capital-lost</th>\n",
              "      <th>hours-per-week</th>\n",
              "      <th>income</th>\n",
              "      <th>Federal-gov</th>\n",
              "      <th>Local-gov</th>\n",
              "      <th>Private</th>\n",
              "      <th>Self-emp-inc</th>\n",
              "      <th>Self-emp-not-inc</th>\n",
              "      <th>State-gov</th>\n",
              "      <th>Without-pay</th>\n",
              "      <th>10th</th>\n",
              "      <th>11th</th>\n",
              "      <th>12th</th>\n",
              "      <th>1st-4th</th>\n",
              "      <th>5th-6th</th>\n",
              "      <th>7th-8th</th>\n",
              "      <th>9th</th>\n",
              "      <th>Assoc-acdm</th>\n",
              "      <th>Assoc-voc</th>\n",
              "      <th>Bachelors</th>\n",
              "      <th>Doctorate</th>\n",
              "      <th>HS-grad</th>\n",
              "      <th>Masters</th>\n",
              "      <th>Preschool</th>\n",
              "      <th>Prof-school</th>\n",
              "      <th>Some-college</th>\n",
              "      <th>Divorced</th>\n",
              "      <th>Married-AF-spouse</th>\n",
              "      <th>Married-civ-spouse</th>\n",
              "      <th>Married-spouse-absent</th>\n",
              "      <th>Never-married</th>\n",
              "      <th>Separated</th>\n",
              "      <th>Widowed</th>\n",
              "      <th>Adm-clerical</th>\n",
              "      <th>Armed-Forces</th>\n",
              "      <th>Craft-repair</th>\n",
              "      <th>Exec-managerial</th>\n",
              "      <th>...</th>\n",
              "      <th>Columbia</th>\n",
              "      <th>Cuba</th>\n",
              "      <th>Dominican-Republic</th>\n",
              "      <th>Ecuador</th>\n",
              "      <th>El-Salvador</th>\n",
              "      <th>England</th>\n",
              "      <th>France</th>\n",
              "      <th>Germany</th>\n",
              "      <th>Greece</th>\n",
              "      <th>Guatemala</th>\n",
              "      <th>Haiti</th>\n",
              "      <th>Holand-Netherlands</th>\n",
              "      <th>Honduras</th>\n",
              "      <th>Hong</th>\n",
              "      <th>Hungary</th>\n",
              "      <th>India</th>\n",
              "      <th>Iran</th>\n",
              "      <th>Ireland</th>\n",
              "      <th>Italy</th>\n",
              "      <th>Jamaica</th>\n",
              "      <th>Japan</th>\n",
              "      <th>Laos</th>\n",
              "      <th>Mexico</th>\n",
              "      <th>Nicaragua</th>\n",
              "      <th>Outlying-US(Guam-USVI-etc)</th>\n",
              "      <th>Peru</th>\n",
              "      <th>Philippines</th>\n",
              "      <th>Poland</th>\n",
              "      <th>Portugal</th>\n",
              "      <th>Puerto-Rico</th>\n",
              "      <th>Scotland</th>\n",
              "      <th>South</th>\n",
              "      <th>Taiwan</th>\n",
              "      <th>Thailand</th>\n",
              "      <th>Trinadad&amp;Tobago</th>\n",
              "      <th>United-States</th>\n",
              "      <th>Vietnam</th>\n",
              "      <th>Yugoslavia</th>\n",
              "      <th>sex_ Female</th>\n",
              "      <th>sex_ Male</th>\n",
              "    </tr>\n",
              "  </thead>\n",
              "  <tbody>\n",
              "    <tr>\n",
              "      <th>0</th>\n",
              "      <td>50</td>\n",
              "      <td>83311</td>\n",
              "      <td>0</td>\n",
              "      <td>0</td>\n",
              "      <td>13</td>\n",
              "      <td>&lt;=50K</td>\n",
              "      <td>0</td>\n",
              "      <td>0</td>\n",
              "      <td>0</td>\n",
              "      <td>0</td>\n",
              "      <td>1</td>\n",
              "      <td>0</td>\n",
              "      <td>0</td>\n",
              "      <td>0</td>\n",
              "      <td>0</td>\n",
              "      <td>0</td>\n",
              "      <td>0</td>\n",
              "      <td>0</td>\n",
              "      <td>0</td>\n",
              "      <td>0</td>\n",
              "      <td>0</td>\n",
              "      <td>0</td>\n",
              "      <td>1</td>\n",
              "      <td>0</td>\n",
              "      <td>0</td>\n",
              "      <td>0</td>\n",
              "      <td>0</td>\n",
              "      <td>0</td>\n",
              "      <td>0</td>\n",
              "      <td>0</td>\n",
              "      <td>0</td>\n",
              "      <td>1</td>\n",
              "      <td>0</td>\n",
              "      <td>0</td>\n",
              "      <td>0</td>\n",
              "      <td>0</td>\n",
              "      <td>0</td>\n",
              "      <td>0</td>\n",
              "      <td>0</td>\n",
              "      <td>1</td>\n",
              "      <td>...</td>\n",
              "      <td>0</td>\n",
              "      <td>0</td>\n",
              "      <td>0</td>\n",
              "      <td>0</td>\n",
              "      <td>0</td>\n",
              "      <td>0</td>\n",
              "      <td>0</td>\n",
              "      <td>0</td>\n",
              "      <td>0</td>\n",
              "      <td>0</td>\n",
              "      <td>0</td>\n",
              "      <td>0</td>\n",
              "      <td>0</td>\n",
              "      <td>0</td>\n",
              "      <td>0</td>\n",
              "      <td>0</td>\n",
              "      <td>0</td>\n",
              "      <td>0</td>\n",
              "      <td>0</td>\n",
              "      <td>0</td>\n",
              "      <td>0</td>\n",
              "      <td>0</td>\n",
              "      <td>0</td>\n",
              "      <td>0</td>\n",
              "      <td>0</td>\n",
              "      <td>0</td>\n",
              "      <td>0</td>\n",
              "      <td>0</td>\n",
              "      <td>0</td>\n",
              "      <td>0</td>\n",
              "      <td>0</td>\n",
              "      <td>0</td>\n",
              "      <td>0</td>\n",
              "      <td>0</td>\n",
              "      <td>0</td>\n",
              "      <td>1</td>\n",
              "      <td>0</td>\n",
              "      <td>0</td>\n",
              "      <td>0</td>\n",
              "      <td>1</td>\n",
              "    </tr>\n",
              "    <tr>\n",
              "      <th>1</th>\n",
              "      <td>38</td>\n",
              "      <td>215646</td>\n",
              "      <td>0</td>\n",
              "      <td>0</td>\n",
              "      <td>40</td>\n",
              "      <td>&lt;=50K</td>\n",
              "      <td>0</td>\n",
              "      <td>0</td>\n",
              "      <td>1</td>\n",
              "      <td>0</td>\n",
              "      <td>0</td>\n",
              "      <td>0</td>\n",
              "      <td>0</td>\n",
              "      <td>0</td>\n",
              "      <td>0</td>\n",
              "      <td>0</td>\n",
              "      <td>0</td>\n",
              "      <td>0</td>\n",
              "      <td>0</td>\n",
              "      <td>0</td>\n",
              "      <td>0</td>\n",
              "      <td>0</td>\n",
              "      <td>0</td>\n",
              "      <td>0</td>\n",
              "      <td>1</td>\n",
              "      <td>0</td>\n",
              "      <td>0</td>\n",
              "      <td>0</td>\n",
              "      <td>0</td>\n",
              "      <td>1</td>\n",
              "      <td>0</td>\n",
              "      <td>0</td>\n",
              "      <td>0</td>\n",
              "      <td>0</td>\n",
              "      <td>0</td>\n",
              "      <td>0</td>\n",
              "      <td>0</td>\n",
              "      <td>0</td>\n",
              "      <td>0</td>\n",
              "      <td>0</td>\n",
              "      <td>...</td>\n",
              "      <td>0</td>\n",
              "      <td>0</td>\n",
              "      <td>0</td>\n",
              "      <td>0</td>\n",
              "      <td>0</td>\n",
              "      <td>0</td>\n",
              "      <td>0</td>\n",
              "      <td>0</td>\n",
              "      <td>0</td>\n",
              "      <td>0</td>\n",
              "      <td>0</td>\n",
              "      <td>0</td>\n",
              "      <td>0</td>\n",
              "      <td>0</td>\n",
              "      <td>0</td>\n",
              "      <td>0</td>\n",
              "      <td>0</td>\n",
              "      <td>0</td>\n",
              "      <td>0</td>\n",
              "      <td>0</td>\n",
              "      <td>0</td>\n",
              "      <td>0</td>\n",
              "      <td>0</td>\n",
              "      <td>0</td>\n",
              "      <td>0</td>\n",
              "      <td>0</td>\n",
              "      <td>0</td>\n",
              "      <td>0</td>\n",
              "      <td>0</td>\n",
              "      <td>0</td>\n",
              "      <td>0</td>\n",
              "      <td>0</td>\n",
              "      <td>0</td>\n",
              "      <td>0</td>\n",
              "      <td>0</td>\n",
              "      <td>1</td>\n",
              "      <td>0</td>\n",
              "      <td>0</td>\n",
              "      <td>0</td>\n",
              "      <td>1</td>\n",
              "    </tr>\n",
              "    <tr>\n",
              "      <th>2</th>\n",
              "      <td>53</td>\n",
              "      <td>234721</td>\n",
              "      <td>0</td>\n",
              "      <td>0</td>\n",
              "      <td>40</td>\n",
              "      <td>&lt;=50K</td>\n",
              "      <td>0</td>\n",
              "      <td>0</td>\n",
              "      <td>1</td>\n",
              "      <td>0</td>\n",
              "      <td>0</td>\n",
              "      <td>0</td>\n",
              "      <td>0</td>\n",
              "      <td>0</td>\n",
              "      <td>1</td>\n",
              "      <td>0</td>\n",
              "      <td>0</td>\n",
              "      <td>0</td>\n",
              "      <td>0</td>\n",
              "      <td>0</td>\n",
              "      <td>0</td>\n",
              "      <td>0</td>\n",
              "      <td>0</td>\n",
              "      <td>0</td>\n",
              "      <td>0</td>\n",
              "      <td>0</td>\n",
              "      <td>0</td>\n",
              "      <td>0</td>\n",
              "      <td>0</td>\n",
              "      <td>0</td>\n",
              "      <td>0</td>\n",
              "      <td>1</td>\n",
              "      <td>0</td>\n",
              "      <td>0</td>\n",
              "      <td>0</td>\n",
              "      <td>0</td>\n",
              "      <td>0</td>\n",
              "      <td>0</td>\n",
              "      <td>0</td>\n",
              "      <td>0</td>\n",
              "      <td>...</td>\n",
              "      <td>0</td>\n",
              "      <td>0</td>\n",
              "      <td>0</td>\n",
              "      <td>0</td>\n",
              "      <td>0</td>\n",
              "      <td>0</td>\n",
              "      <td>0</td>\n",
              "      <td>0</td>\n",
              "      <td>0</td>\n",
              "      <td>0</td>\n",
              "      <td>0</td>\n",
              "      <td>0</td>\n",
              "      <td>0</td>\n",
              "      <td>0</td>\n",
              "      <td>0</td>\n",
              "      <td>0</td>\n",
              "      <td>0</td>\n",
              "      <td>0</td>\n",
              "      <td>0</td>\n",
              "      <td>0</td>\n",
              "      <td>0</td>\n",
              "      <td>0</td>\n",
              "      <td>0</td>\n",
              "      <td>0</td>\n",
              "      <td>0</td>\n",
              "      <td>0</td>\n",
              "      <td>0</td>\n",
              "      <td>0</td>\n",
              "      <td>0</td>\n",
              "      <td>0</td>\n",
              "      <td>0</td>\n",
              "      <td>0</td>\n",
              "      <td>0</td>\n",
              "      <td>0</td>\n",
              "      <td>0</td>\n",
              "      <td>1</td>\n",
              "      <td>0</td>\n",
              "      <td>0</td>\n",
              "      <td>0</td>\n",
              "      <td>1</td>\n",
              "    </tr>\n",
              "    <tr>\n",
              "      <th>3</th>\n",
              "      <td>28</td>\n",
              "      <td>338409</td>\n",
              "      <td>0</td>\n",
              "      <td>0</td>\n",
              "      <td>40</td>\n",
              "      <td>&lt;=50K</td>\n",
              "      <td>0</td>\n",
              "      <td>0</td>\n",
              "      <td>1</td>\n",
              "      <td>0</td>\n",
              "      <td>0</td>\n",
              "      <td>0</td>\n",
              "      <td>0</td>\n",
              "      <td>0</td>\n",
              "      <td>0</td>\n",
              "      <td>0</td>\n",
              "      <td>0</td>\n",
              "      <td>0</td>\n",
              "      <td>0</td>\n",
              "      <td>0</td>\n",
              "      <td>0</td>\n",
              "      <td>0</td>\n",
              "      <td>1</td>\n",
              "      <td>0</td>\n",
              "      <td>0</td>\n",
              "      <td>0</td>\n",
              "      <td>0</td>\n",
              "      <td>0</td>\n",
              "      <td>0</td>\n",
              "      <td>0</td>\n",
              "      <td>0</td>\n",
              "      <td>1</td>\n",
              "      <td>0</td>\n",
              "      <td>0</td>\n",
              "      <td>0</td>\n",
              "      <td>0</td>\n",
              "      <td>0</td>\n",
              "      <td>0</td>\n",
              "      <td>0</td>\n",
              "      <td>0</td>\n",
              "      <td>...</td>\n",
              "      <td>0</td>\n",
              "      <td>1</td>\n",
              "      <td>0</td>\n",
              "      <td>0</td>\n",
              "      <td>0</td>\n",
              "      <td>0</td>\n",
              "      <td>0</td>\n",
              "      <td>0</td>\n",
              "      <td>0</td>\n",
              "      <td>0</td>\n",
              "      <td>0</td>\n",
              "      <td>0</td>\n",
              "      <td>0</td>\n",
              "      <td>0</td>\n",
              "      <td>0</td>\n",
              "      <td>0</td>\n",
              "      <td>0</td>\n",
              "      <td>0</td>\n",
              "      <td>0</td>\n",
              "      <td>0</td>\n",
              "      <td>0</td>\n",
              "      <td>0</td>\n",
              "      <td>0</td>\n",
              "      <td>0</td>\n",
              "      <td>0</td>\n",
              "      <td>0</td>\n",
              "      <td>0</td>\n",
              "      <td>0</td>\n",
              "      <td>0</td>\n",
              "      <td>0</td>\n",
              "      <td>0</td>\n",
              "      <td>0</td>\n",
              "      <td>0</td>\n",
              "      <td>0</td>\n",
              "      <td>0</td>\n",
              "      <td>0</td>\n",
              "      <td>0</td>\n",
              "      <td>0</td>\n",
              "      <td>1</td>\n",
              "      <td>0</td>\n",
              "    </tr>\n",
              "    <tr>\n",
              "      <th>4</th>\n",
              "      <td>37</td>\n",
              "      <td>284582</td>\n",
              "      <td>0</td>\n",
              "      <td>0</td>\n",
              "      <td>40</td>\n",
              "      <td>&lt;=50K</td>\n",
              "      <td>0</td>\n",
              "      <td>0</td>\n",
              "      <td>1</td>\n",
              "      <td>0</td>\n",
              "      <td>0</td>\n",
              "      <td>0</td>\n",
              "      <td>0</td>\n",
              "      <td>0</td>\n",
              "      <td>0</td>\n",
              "      <td>0</td>\n",
              "      <td>0</td>\n",
              "      <td>0</td>\n",
              "      <td>0</td>\n",
              "      <td>0</td>\n",
              "      <td>0</td>\n",
              "      <td>0</td>\n",
              "      <td>0</td>\n",
              "      <td>0</td>\n",
              "      <td>0</td>\n",
              "      <td>1</td>\n",
              "      <td>0</td>\n",
              "      <td>0</td>\n",
              "      <td>0</td>\n",
              "      <td>0</td>\n",
              "      <td>0</td>\n",
              "      <td>1</td>\n",
              "      <td>0</td>\n",
              "      <td>0</td>\n",
              "      <td>0</td>\n",
              "      <td>0</td>\n",
              "      <td>0</td>\n",
              "      <td>0</td>\n",
              "      <td>0</td>\n",
              "      <td>1</td>\n",
              "      <td>...</td>\n",
              "      <td>0</td>\n",
              "      <td>0</td>\n",
              "      <td>0</td>\n",
              "      <td>0</td>\n",
              "      <td>0</td>\n",
              "      <td>0</td>\n",
              "      <td>0</td>\n",
              "      <td>0</td>\n",
              "      <td>0</td>\n",
              "      <td>0</td>\n",
              "      <td>0</td>\n",
              "      <td>0</td>\n",
              "      <td>0</td>\n",
              "      <td>0</td>\n",
              "      <td>0</td>\n",
              "      <td>0</td>\n",
              "      <td>0</td>\n",
              "      <td>0</td>\n",
              "      <td>0</td>\n",
              "      <td>0</td>\n",
              "      <td>0</td>\n",
              "      <td>0</td>\n",
              "      <td>0</td>\n",
              "      <td>0</td>\n",
              "      <td>0</td>\n",
              "      <td>0</td>\n",
              "      <td>0</td>\n",
              "      <td>0</td>\n",
              "      <td>0</td>\n",
              "      <td>0</td>\n",
              "      <td>0</td>\n",
              "      <td>0</td>\n",
              "      <td>0</td>\n",
              "      <td>0</td>\n",
              "      <td>0</td>\n",
              "      <td>1</td>\n",
              "      <td>0</td>\n",
              "      <td>0</td>\n",
              "      <td>1</td>\n",
              "      <td>0</td>\n",
              "    </tr>\n",
              "  </tbody>\n",
              "</table>\n",
              "<p>5 rows × 104 columns</p>\n",
              "</div>"
            ],
            "text/plain": [
              "   age  fnlwgt  capital-gain  ...   Yugoslavia  sex_ Female sex_ Male\n",
              "0   50   83311             0  ...            0            0         1\n",
              "1   38  215646             0  ...            0            0         1\n",
              "2   53  234721             0  ...            0            0         1\n",
              "3   28  338409             0  ...            0            1         0\n",
              "4   37  284582             0  ...            0            1         0\n",
              "\n",
              "[5 rows x 104 columns]"
            ]
          },
          "metadata": {
            "tags": []
          },
          "execution_count": 24
        }
      ]
    },
    {
      "cell_type": "code",
      "metadata": {
        "id": "OedKNyfmz0Jo",
        "colab": {
          "base_uri": "https://localhost:8080/"
        },
        "outputId": "68aa6e87-2049-47ae-ae84-7b6e92a245de"
      },
      "source": [
        "df.dtypes"
      ],
      "execution_count": null,
      "outputs": [
        {
          "output_type": "execute_result",
          "data": {
            "text/plain": [
              "age               int64\n",
              "fnlwgt            int64\n",
              "capital-gain      int64\n",
              "capital-lost      int64\n",
              "hours-per-week    int64\n",
              "                  ...  \n",
              " United-States    int64\n",
              " Vietnam          int64\n",
              " Yugoslavia       int64\n",
              "sex_ Female       uint8\n",
              "sex_ Male         uint8\n",
              "Length: 104, dtype: object"
            ]
          },
          "metadata": {
            "tags": []
          },
          "execution_count": 25
        }
      ]
    },
    {
      "cell_type": "markdown",
      "metadata": {
        "id": "Z20xL7BNyq1A"
      },
      "source": [
        "# Prepare Training and Test Data\n",
        "\n",
        "Separate the input data into a set of independent variables (**X**) and the dependend variable (**Y**).  **X** = the set of all columns except 'income'.  **Y** = the set of 'income' values.\n",
        "\n",
        "All values will be scaled using the sklearn **StandardScaler** to ensure that features with large numeric values do not dominate the model."
      ]
    },
    {
      "cell_type": "code",
      "metadata": {
        "id": "s-w5k319KgyA"
      },
      "source": [
        "from sklearn.model_selection import train_test_split\n",
        "from sklearn.preprocessing import StandardScaler\n",
        "from sklearn.preprocessing import LabelEncoder\n",
        "\n",
        "# X = independent variables (all columns except 'income')\n",
        "X = df.drop(['income'], axis=1)\n",
        "\n",
        "# Y = dependent variable: 'income'\n",
        "Y = df['income'] \n",
        "\n",
        "# Split data into test and training data sets\n",
        "X_train, X_test, Y_train, Y_test = train_test_split(X, Y,test_size=0.20,random_state=1)\n",
        "\n",
        "# Scale data values\n",
        "scaler = StandardScaler()\n",
        "# Fit only to the training data\n",
        "scaler.fit(X_train)\n",
        "# Now apply the transformations to the data:\n",
        "X_train = scaler.transform(X_train)\n",
        "X_test = scaler.transform(X_test)\n"
      ],
      "execution_count": null,
      "outputs": []
    },
    {
      "cell_type": "markdown",
      "metadata": {
        "id": "WK4cTfm04fyc"
      },
      "source": [
        "# Create Neural Networks\n",
        "\n",
        "Train neural networks to classify people as earning more or less than $50k/year.\n",
        "\n",
        "\n",
        "## Combinations of Hyperparameters\n",
        "\n",
        "Multiple MLP models were created using the parameters Hidden Nodes, Activation Function,Learning Rate,\tMax Iterations.\n",
        "\n",
        "From Homework Assignment #2:\n",
        "\n",
        "You should tune the following parameters:\n",
        " * hidden layer sizes\n",
        " * activation function\n",
        " * maximum number of iterations \n",
        " * learning rate\n",
        "\n",
        "You should try at least 5 combination of above parameters and report training and test accuracies for each.\n",
        "Report your results in a tabular format, with a column indicating the parameters used, a column for training accuracy, and one for test accuracy.\n",
        "\n",
        "\n",
        "|  Run # |  Hidden Nodes | Activation Function  | Learning Rate  | Maximum Iterations  | Training Accuracy | Test Accuracy |\n",
        "|---|---|---|---|---|---|---|\n",
        "|  #1 |  4,5,4       | logistic | 0.0001  | 500  | 0.85 | 0.85 |\n",
        "|  #2 |  40,50,40,10 | tanh     | 0.01    | 250  | 0.90 | 0.84 |\n",
        "|  #3 |  30,20,10    | relu     | 0.01    | 1000 | 0.89 | 0.84 |\n",
        "|  #4 |  50,25       | relu     | 0.001   | 500  | 0.93 | 0.82 |\n",
        "|  #5 |  3,4,2       | logistic | 1.1     | 2000 | 0.75 | 0.75 |\n",
        "\n",
        "**accuracy is the f1 accuracy score retrieved from the metrics.classification_report()**\n",
        "\n"
      ]
    },
    {
      "cell_type": "code",
      "metadata": {
        "id": "ypOOo6OZ4sfw"
      },
      "source": [
        "from sklearn.neural_network import MLPClassifier\n",
        "from sklearn.metrics import classification_report, confusion_matrix, f1_score, precision_score\n",
        "\n",
        "def mlpfit(title, model, X_train, X_test, Y_train, Y_test):\n",
        "  printmd(\"# \" + title)\n",
        "  printHorizontalRule()\n",
        "  mlp.fit(X_train,Y_train)\n",
        "  predictions_train = mlp.predict(X_train)\n",
        "  predictions_test = mlp.predict(X_test)\n",
        "\n",
        "  printmd(\"## Confusion Matrix: Training data\")\n",
        "  print(confusion_matrix(Y_train,predictions_train))\n",
        "\n",
        "  printHorizontalRule()\n",
        "\n",
        "  printmd(\"## Classification Report: Training data\")\n",
        "  print(classification_report(Y_train,predictions_train, zero_division=0))\n",
        "\n",
        "  printmd(\"## Confusion Matrix: Testing data\")\n",
        "  print(confusion_matrix(Y_test,predictions_test))\n",
        "\n",
        "  printHorizontalRule()\n",
        "\n",
        "  printmd(\"## Classification Report: Testing data\")\n",
        "  print(classification_report(Y_test,predictions_test, zero_division=0))\n"
      ],
      "execution_count": null,
      "outputs": []
    },
    {
      "cell_type": "code",
      "metadata": {
        "id": "AZoevMTa7H0s",
        "colab": {
          "base_uri": "https://localhost:8080/",
          "height": 682
        },
        "outputId": "73e94158-bd42-45a7-9f4a-26f19506bd89"
      },
      "source": [
        "# 1st run, 30s to complete\n",
        "mlp = MLPClassifier(activation='logistic',\n",
        "                    learning_rate_init=0.0001,\n",
        "                    hidden_layer_sizes=(4,5,4),\n",
        "                    learning_rate='constant',\n",
        "                    max_iter=500, \n",
        "                    random_state=5)\n",
        "\n",
        "mlpfit(\"Run #1: activation=logistic, lr=0.0001, layers=(4,5,4), iterations=500\", mlp, X_train, X_test, Y_train, Y_test)\n"
      ],
      "execution_count": null,
      "outputs": [
        {
          "output_type": "display_data",
          "data": {
            "text/markdown": "# Run #1: activation=logistic, lr=0.0001, layers=(4,5,4), iterations=500",
            "text/plain": [
              "<IPython.core.display.Markdown object>"
            ]
          },
          "metadata": {
            "tags": []
          }
        },
        {
          "output_type": "display_data",
          "data": {
            "text/markdown": "---",
            "text/plain": [
              "<IPython.core.display.Markdown object>"
            ]
          },
          "metadata": {
            "tags": []
          }
        },
        {
          "output_type": "display_data",
          "data": {
            "text/markdown": "## Confusion Matrix: Training data",
            "text/plain": [
              "<IPython.core.display.Markdown object>"
            ]
          },
          "metadata": {
            "tags": []
          }
        },
        {
          "output_type": "stream",
          "text": [
            "[[16139  1622]\n",
            " [ 1881  3898]]\n"
          ],
          "name": "stdout"
        },
        {
          "output_type": "display_data",
          "data": {
            "text/markdown": "---",
            "text/plain": [
              "<IPython.core.display.Markdown object>"
            ]
          },
          "metadata": {
            "tags": []
          }
        },
        {
          "output_type": "display_data",
          "data": {
            "text/markdown": "## Classification Report: Training data",
            "text/plain": [
              "<IPython.core.display.Markdown object>"
            ]
          },
          "metadata": {
            "tags": []
          }
        },
        {
          "output_type": "stream",
          "text": [
            "              precision    recall  f1-score   support\n",
            "\n",
            "       <=50K       0.90      0.91      0.90     17761\n",
            "        >50K       0.71      0.67      0.69      5779\n",
            "\n",
            "    accuracy                           0.85     23540\n",
            "   macro avg       0.80      0.79      0.80     23540\n",
            "weighted avg       0.85      0.85      0.85     23540\n",
            "\n"
          ],
          "name": "stdout"
        },
        {
          "output_type": "display_data",
          "data": {
            "text/markdown": "## Confusion Matrix: Testing data",
            "text/plain": [
              "<IPython.core.display.Markdown object>"
            ]
          },
          "metadata": {
            "tags": []
          }
        },
        {
          "output_type": "stream",
          "text": [
            "[[4006  415]\n",
            " [ 475  989]]\n"
          ],
          "name": "stdout"
        },
        {
          "output_type": "display_data",
          "data": {
            "text/markdown": "---",
            "text/plain": [
              "<IPython.core.display.Markdown object>"
            ]
          },
          "metadata": {
            "tags": []
          }
        },
        {
          "output_type": "display_data",
          "data": {
            "text/markdown": "## Classification Report: Testing data",
            "text/plain": [
              "<IPython.core.display.Markdown object>"
            ]
          },
          "metadata": {
            "tags": []
          }
        },
        {
          "output_type": "stream",
          "text": [
            "              precision    recall  f1-score   support\n",
            "\n",
            "       <=50K       0.89      0.91      0.90      4421\n",
            "        >50K       0.70      0.68      0.69      1464\n",
            "\n",
            "    accuracy                           0.85      5885\n",
            "   macro avg       0.80      0.79      0.79      5885\n",
            "weighted avg       0.85      0.85      0.85      5885\n",
            "\n"
          ],
          "name": "stdout"
        }
      ]
    },
    {
      "cell_type": "code",
      "metadata": {
        "id": "LOY-fEa15WcM",
        "colab": {
          "base_uri": "https://localhost:8080/",
          "height": 682
        },
        "outputId": "60eb35cd-175b-4d50-ef22-5105fbd12be4"
      },
      "source": [
        "# 2nd run, 41s\n",
        "mlp = MLPClassifier(activation='tanh', \n",
        "                    learning_rate_init=0.01, \n",
        "                    hidden_layer_sizes=(40,50,40,10),\n",
        "                    max_iter=250, \n",
        "                    random_state=5)\n",
        "mlpfit(\"Run #2: activation=tanh, lr=0.01, layers=(40,50,40,10), iterations=250\",mlp, X_train, X_test, Y_train, Y_test)"
      ],
      "execution_count": null,
      "outputs": [
        {
          "output_type": "display_data",
          "data": {
            "text/markdown": "# Run #2: activation=tanh, lr=0.01, layers=(40,50,40,10), iterations=250",
            "text/plain": [
              "<IPython.core.display.Markdown object>"
            ]
          },
          "metadata": {
            "tags": []
          }
        },
        {
          "output_type": "display_data",
          "data": {
            "text/markdown": "---",
            "text/plain": [
              "<IPython.core.display.Markdown object>"
            ]
          },
          "metadata": {
            "tags": []
          }
        },
        {
          "output_type": "display_data",
          "data": {
            "text/markdown": "## Confusion Matrix: Training data",
            "text/plain": [
              "<IPython.core.display.Markdown object>"
            ]
          },
          "metadata": {
            "tags": []
          }
        },
        {
          "output_type": "stream",
          "text": [
            "[[16888   873]\n",
            " [ 1557  4222]]\n"
          ],
          "name": "stdout"
        },
        {
          "output_type": "display_data",
          "data": {
            "text/markdown": "---",
            "text/plain": [
              "<IPython.core.display.Markdown object>"
            ]
          },
          "metadata": {
            "tags": []
          }
        },
        {
          "output_type": "display_data",
          "data": {
            "text/markdown": "## Classification Report: Training data",
            "text/plain": [
              "<IPython.core.display.Markdown object>"
            ]
          },
          "metadata": {
            "tags": []
          }
        },
        {
          "output_type": "stream",
          "text": [
            "              precision    recall  f1-score   support\n",
            "\n",
            "       <=50K       0.92      0.95      0.93     17761\n",
            "        >50K       0.83      0.73      0.78      5779\n",
            "\n",
            "    accuracy                           0.90     23540\n",
            "   macro avg       0.87      0.84      0.85     23540\n",
            "weighted avg       0.89      0.90      0.89     23540\n",
            "\n"
          ],
          "name": "stdout"
        },
        {
          "output_type": "display_data",
          "data": {
            "text/markdown": "## Confusion Matrix: Testing data",
            "text/plain": [
              "<IPython.core.display.Markdown object>"
            ]
          },
          "metadata": {
            "tags": []
          }
        },
        {
          "output_type": "stream",
          "text": [
            "[[4052  369]\n",
            " [ 579  885]]\n"
          ],
          "name": "stdout"
        },
        {
          "output_type": "display_data",
          "data": {
            "text/markdown": "---",
            "text/plain": [
              "<IPython.core.display.Markdown object>"
            ]
          },
          "metadata": {
            "tags": []
          }
        },
        {
          "output_type": "display_data",
          "data": {
            "text/markdown": "## Classification Report: Testing data",
            "text/plain": [
              "<IPython.core.display.Markdown object>"
            ]
          },
          "metadata": {
            "tags": []
          }
        },
        {
          "output_type": "stream",
          "text": [
            "              precision    recall  f1-score   support\n",
            "\n",
            "       <=50K       0.87      0.92      0.90      4421\n",
            "        >50K       0.71      0.60      0.65      1464\n",
            "\n",
            "    accuracy                           0.84      5885\n",
            "   macro avg       0.79      0.76      0.77      5885\n",
            "weighted avg       0.83      0.84      0.83      5885\n",
            "\n"
          ],
          "name": "stdout"
        }
      ]
    },
    {
      "cell_type": "code",
      "metadata": {
        "id": "tVjaa8h86dIR",
        "colab": {
          "base_uri": "https://localhost:8080/",
          "height": 86
        },
        "outputId": "a856e12b-7283-47a1-dc5d-2cf7a06f19f8"
      },
      "source": [
        "# 3rd run, 18s to complete\n",
        "mlp = MLPClassifier(activation='relu', \n",
        "                    learning_rate_init=0.01, \n",
        "                    hidden_layer_sizes=(30,20,10),\n",
        "                    max_iter=1000, \n",
        "                    random_state=5)\n",
        "mlpfit(\"Run #3: activation=relu, lr=0.01, layers=(30,20,10), iterations=1000\",mlp, X_train, X_test, Y_train, Y_test)"
      ],
      "execution_count": null,
      "outputs": [
        {
          "output_type": "display_data",
          "data": {
            "text/markdown": "# Run #3: activation=relu, lr=0.01, layers=(30,20,10), iterations=1000",
            "text/plain": [
              "<IPython.core.display.Markdown object>"
            ]
          },
          "metadata": {
            "tags": []
          }
        },
        {
          "output_type": "display_data",
          "data": {
            "text/markdown": "---",
            "text/plain": [
              "<IPython.core.display.Markdown object>"
            ]
          },
          "metadata": {
            "tags": []
          }
        }
      ]
    },
    {
      "cell_type": "code",
      "metadata": {
        "id": "zUy5wKHz8zu5"
      },
      "source": [
        "# 4th run: 1:13 runtime\n",
        "mlp = MLPClassifier(activation='relu', \n",
        "                    learning_rate_init=0.001, \n",
        "                    hidden_layer_sizes=(50, 25),\n",
        "                    max_iter=500, \n",
        "                    random_state=5)\n",
        "mlpfit(\"Run #4: activation=relu, lr=0.001, layers=(50,25), iterations=500\",mlp, X_train, X_test, Y_train, Y_test)\n"
      ],
      "execution_count": null,
      "outputs": []
    },
    {
      "cell_type": "code",
      "metadata": {
        "id": "Pfc8bugN56dP"
      },
      "source": [
        "# 5th run: 1s\n",
        "mlp = MLPClassifier(activation='logistic', \n",
        "                    learning_rate_init=1.1, \n",
        "                    hidden_layer_sizes=(3, 4, 2),\n",
        "                    max_iter=2000, \n",
        "                    random_state=5)\n",
        "mlpfit(\"Run #5: activation=logistic, lr=1.1, layers=(3,4,2), iterations=2000\",mlp, X_train, X_test, Y_train, Y_test)\n"
      ],
      "execution_count": null,
      "outputs": []
    }
  ]
}